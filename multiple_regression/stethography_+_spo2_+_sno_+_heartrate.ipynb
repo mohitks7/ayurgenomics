{
 "cells": [
  {
   "cell_type": "code",
   "execution_count": 1,
   "metadata": {},
   "outputs": [],
   "source": [
    "#getting all the imports out of thee way\n",
    "\n",
    "import matplotlib.pyplot as plt\n",
    "import pandas as pd\n",
    "import pylab as pl\n",
    "import numpy as np\n",
    "%matplotlib inline"
   ]
  },
  {
   "cell_type": "code",
   "execution_count": 3,
   "metadata": {},
   "outputs": [],
   "source": [
    "# reading our data file\n",
    "df = pd.read_csv(\"/home/mohit/Documents/thefinaldatafile.csv\")"
   ]
  },
  {
   "cell_type": "code",
   "execution_count": 5,
   "metadata": {},
   "outputs": [
    {
     "data": {
      "text/html": [
       "<div>\n",
       "<style scoped>\n",
       "    .dataframe tbody tr th:only-of-type {\n",
       "        vertical-align: middle;\n",
       "    }\n",
       "\n",
       "    .dataframe tbody tr th {\n",
       "        vertical-align: top;\n",
       "    }\n",
       "\n",
       "    .dataframe thead th {\n",
       "        text-align: right;\n",
       "    }\n",
       "</style>\n",
       "<table border=\"1\" class=\"dataframe\">\n",
       "  <thead>\n",
       "    <tr style=\"text-align: right;\">\n",
       "      <th></th>\n",
       "      <th>Sno</th>\n",
       "      <th>ECG</th>\n",
       "      <th>Stethography</th>\n",
       "      <th>HeartRate</th>\n",
       "      <th>respiratoryrate</th>\n",
       "      <th>SelDuration</th>\n",
       "      <th>SelStart</th>\n",
       "      <th>SelEnd</th>\n",
       "      <th>SpO2</th>\n",
       "    </tr>\n",
       "  </thead>\n",
       "  <tbody>\n",
       "    <tr>\n",
       "      <td>0</td>\n",
       "      <td>1</td>\n",
       "      <td>-1.3970</td>\n",
       "      <td>-1.4897</td>\n",
       "      <td>75.6547</td>\n",
       "      <td>15.8475</td>\n",
       "      <td>0.793</td>\n",
       "      <td>00:00.45</td>\n",
       "      <td>00:01.242</td>\n",
       "      <td>97.3036</td>\n",
       "    </tr>\n",
       "    <tr>\n",
       "      <td>1</td>\n",
       "      <td>2</td>\n",
       "      <td>-1.3831</td>\n",
       "      <td>0.1815</td>\n",
       "      <td>75.4254</td>\n",
       "      <td>15.8475</td>\n",
       "      <td>0.796</td>\n",
       "      <td>00:01.243</td>\n",
       "      <td>00:02.038</td>\n",
       "      <td>97.3044</td>\n",
       "    </tr>\n",
       "    <tr>\n",
       "      <td>2</td>\n",
       "      <td>3</td>\n",
       "      <td>-1.3663</td>\n",
       "      <td>1.3439</td>\n",
       "      <td>74.8397</td>\n",
       "      <td>15.8475</td>\n",
       "      <td>0.801</td>\n",
       "      <td>00:02.039</td>\n",
       "      <td>00:02.839</td>\n",
       "      <td>97.3048</td>\n",
       "    </tr>\n",
       "    <tr>\n",
       "      <td>3</td>\n",
       "      <td>4</td>\n",
       "      <td>-1.3627</td>\n",
       "      <td>0.3860</td>\n",
       "      <td>70.6504</td>\n",
       "      <td>15.8475</td>\n",
       "      <td>0.850</td>\n",
       "      <td>00:02.84</td>\n",
       "      <td>00:03.689</td>\n",
       "      <td>97.3037</td>\n",
       "    </tr>\n",
       "    <tr>\n",
       "      <td>4</td>\n",
       "      <td>5</td>\n",
       "      <td>-1.3843</td>\n",
       "      <td>-1.1263</td>\n",
       "      <td>69.9851</td>\n",
       "      <td>15.8475</td>\n",
       "      <td>0.857</td>\n",
       "      <td>00:03.69</td>\n",
       "      <td>00:04.546</td>\n",
       "      <td>97.3038</td>\n",
       "    </tr>\n",
       "  </tbody>\n",
       "</table>\n",
       "</div>"
      ],
      "text/plain": [
       "   Sno     ECG  Stethography  HeartRate  respiratoryrate  SelDuration  \\\n",
       "0    1 -1.3970       -1.4897    75.6547          15.8475        0.793   \n",
       "1    2 -1.3831        0.1815    75.4254          15.8475        0.796   \n",
       "2    3 -1.3663        1.3439    74.8397          15.8475        0.801   \n",
       "3    4 -1.3627        0.3860    70.6504          15.8475        0.850   \n",
       "4    5 -1.3843       -1.1263    69.9851          15.8475        0.857   \n",
       "\n",
       "    SelStart     SelEnd     SpO2  \n",
       "0   00:00.45  00:01.242  97.3036  \n",
       "1  00:01.243  00:02.038  97.3044  \n",
       "2  00:02.039  00:02.839  97.3048  \n",
       "3   00:02.84  00:03.689  97.3037  \n",
       "4   00:03.69  00:04.546  97.3038  "
      ]
     },
     "execution_count": 5,
     "metadata": {},
     "output_type": "execute_result"
    }
   ],
   "source": [
    "# seeing our data from the top( deafult is 5 )\n",
    "\n",
    "df.head()\n"
   ]
  },
  {
   "cell_type": "code",
   "execution_count": 7,
   "metadata": {},
   "outputs": [
    {
     "data": {
      "text/plain": [
       "(5111, 9)"
      ]
     },
     "execution_count": 7,
     "metadata": {},
     "output_type": "execute_result"
    }
   ],
   "source": [
    "# number of values present  in our data\n",
    "\n",
    "df.shape"
   ]
  },
  {
   "cell_type": "code",
   "execution_count": 9,
   "metadata": {},
   "outputs": [
    {
     "data": {
      "text/html": [
       "<div>\n",
       "<style scoped>\n",
       "    .dataframe tbody tr th:only-of-type {\n",
       "        vertical-align: middle;\n",
       "    }\n",
       "\n",
       "    .dataframe tbody tr th {\n",
       "        vertical-align: top;\n",
       "    }\n",
       "\n",
       "    .dataframe thead th {\n",
       "        text-align: right;\n",
       "    }\n",
       "</style>\n",
       "<table border=\"1\" class=\"dataframe\">\n",
       "  <thead>\n",
       "    <tr style=\"text-align: right;\">\n",
       "      <th></th>\n",
       "      <th>Sno</th>\n",
       "      <th>ECG</th>\n",
       "      <th>Stethography</th>\n",
       "      <th>HeartRate</th>\n",
       "      <th>respiratoryrate</th>\n",
       "      <th>SelDuration</th>\n",
       "      <th>SpO2</th>\n",
       "    </tr>\n",
       "  </thead>\n",
       "  <tbody>\n",
       "    <tr>\n",
       "      <td>count</td>\n",
       "      <td>5111.000000</td>\n",
       "      <td>5111.000000</td>\n",
       "      <td>5111.000000</td>\n",
       "      <td>5111.000000</td>\n",
       "      <td>5111.000000</td>\n",
       "      <td>5111.000000</td>\n",
       "      <td>5111.000000</td>\n",
       "    </tr>\n",
       "    <tr>\n",
       "      <td>mean</td>\n",
       "      <td>2556.000000</td>\n",
       "      <td>-1.366269</td>\n",
       "      <td>0.118736</td>\n",
       "      <td>79.921467</td>\n",
       "      <td>13.473745</td>\n",
       "      <td>0.755906</td>\n",
       "      <td>91.979136</td>\n",
       "    </tr>\n",
       "    <tr>\n",
       "      <td>std</td>\n",
       "      <td>1475.562943</td>\n",
       "      <td>0.038957</td>\n",
       "      <td>1.038749</td>\n",
       "      <td>6.640004</td>\n",
       "      <td>2.234247</td>\n",
       "      <td>0.062946</td>\n",
       "      <td>4.766842</td>\n",
       "    </tr>\n",
       "    <tr>\n",
       "      <td>min</td>\n",
       "      <td>1.000000</td>\n",
       "      <td>-2.887100</td>\n",
       "      <td>-3.102200</td>\n",
       "      <td>42.579800</td>\n",
       "      <td>5.883100</td>\n",
       "      <td>0.583000</td>\n",
       "      <td>81.240600</td>\n",
       "    </tr>\n",
       "    <tr>\n",
       "      <td>25%</td>\n",
       "      <td>1278.500000</td>\n",
       "      <td>-1.374400</td>\n",
       "      <td>-0.811000</td>\n",
       "      <td>75.204950</td>\n",
       "      <td>12.443400</td>\n",
       "      <td>0.712000</td>\n",
       "      <td>89.273300</td>\n",
       "    </tr>\n",
       "    <tr>\n",
       "      <td>50%</td>\n",
       "      <td>2556.000000</td>\n",
       "      <td>-1.366200</td>\n",
       "      <td>0.107100</td>\n",
       "      <td>79.031800</td>\n",
       "      <td>13.655500</td>\n",
       "      <td>0.759000</td>\n",
       "      <td>93.290100</td>\n",
       "    </tr>\n",
       "    <tr>\n",
       "      <td>75%</td>\n",
       "      <td>3833.500000</td>\n",
       "      <td>-1.357900</td>\n",
       "      <td>1.068000</td>\n",
       "      <td>84.261250</td>\n",
       "      <td>14.653550</td>\n",
       "      <td>0.798000</td>\n",
       "      <td>96.301700</td>\n",
       "    </tr>\n",
       "    <tr>\n",
       "      <td>max</td>\n",
       "      <td>5111.000000</td>\n",
       "      <td>-0.266600</td>\n",
       "      <td>5.271700</td>\n",
       "      <td>102.868000</td>\n",
       "      <td>62.344300</td>\n",
       "      <td>1.409000</td>\n",
       "      <td>97.306600</td>\n",
       "    </tr>\n",
       "  </tbody>\n",
       "</table>\n",
       "</div>"
      ],
      "text/plain": [
       "               Sno          ECG  Stethography    HeartRate  respiratoryrate  \\\n",
       "count  5111.000000  5111.000000   5111.000000  5111.000000      5111.000000   \n",
       "mean   2556.000000    -1.366269      0.118736    79.921467        13.473745   \n",
       "std    1475.562943     0.038957      1.038749     6.640004         2.234247   \n",
       "min       1.000000    -2.887100     -3.102200    42.579800         5.883100   \n",
       "25%    1278.500000    -1.374400     -0.811000    75.204950        12.443400   \n",
       "50%    2556.000000    -1.366200      0.107100    79.031800        13.655500   \n",
       "75%    3833.500000    -1.357900      1.068000    84.261250        14.653550   \n",
       "max    5111.000000    -0.266600      5.271700   102.868000        62.344300   \n",
       "\n",
       "       SelDuration         SpO2  \n",
       "count  5111.000000  5111.000000  \n",
       "mean      0.755906    91.979136  \n",
       "std       0.062946     4.766842  \n",
       "min       0.583000    81.240600  \n",
       "25%       0.712000    89.273300  \n",
       "50%       0.759000    93.290100  \n",
       "75%       0.798000    96.301700  \n",
       "max       1.409000    97.306600  "
      ]
     },
     "execution_count": 9,
     "metadata": {},
     "output_type": "execute_result"
    }
   ],
   "source": [
    "#taking the data attributes\n",
    "\n",
    "df.describe()"
   ]
  },
  {
   "cell_type": "code",
   "execution_count": 11,
   "metadata": {},
   "outputs": [
    {
     "data": {
      "text/html": [
       "<div>\n",
       "<style scoped>\n",
       "    .dataframe tbody tr th:only-of-type {\n",
       "        vertical-align: middle;\n",
       "    }\n",
       "\n",
       "    .dataframe tbody tr th {\n",
       "        vertical-align: top;\n",
       "    }\n",
       "\n",
       "    .dataframe thead th {\n",
       "        text-align: right;\n",
       "    }\n",
       "</style>\n",
       "<table border=\"1\" class=\"dataframe\">\n",
       "  <thead>\n",
       "    <tr style=\"text-align: right;\">\n",
       "      <th></th>\n",
       "      <th>Sno</th>\n",
       "      <th>ECG</th>\n",
       "      <th>Stethography</th>\n",
       "      <th>HeartRate</th>\n",
       "      <th>respiratoryrate</th>\n",
       "      <th>SelDuration</th>\n",
       "      <th>SpO2</th>\n",
       "    </tr>\n",
       "  </thead>\n",
       "  <tbody>\n",
       "    <tr>\n",
       "      <td>0</td>\n",
       "      <td>1</td>\n",
       "      <td>-1.3970</td>\n",
       "      <td>-1.4897</td>\n",
       "      <td>75.6547</td>\n",
       "      <td>15.8475</td>\n",
       "      <td>0.793</td>\n",
       "      <td>97.3036</td>\n",
       "    </tr>\n",
       "    <tr>\n",
       "      <td>1</td>\n",
       "      <td>2</td>\n",
       "      <td>-1.3831</td>\n",
       "      <td>0.1815</td>\n",
       "      <td>75.4254</td>\n",
       "      <td>15.8475</td>\n",
       "      <td>0.796</td>\n",
       "      <td>97.3044</td>\n",
       "    </tr>\n",
       "    <tr>\n",
       "      <td>2</td>\n",
       "      <td>3</td>\n",
       "      <td>-1.3663</td>\n",
       "      <td>1.3439</td>\n",
       "      <td>74.8397</td>\n",
       "      <td>15.8475</td>\n",
       "      <td>0.801</td>\n",
       "      <td>97.3048</td>\n",
       "    </tr>\n",
       "    <tr>\n",
       "      <td>3</td>\n",
       "      <td>4</td>\n",
       "      <td>-1.3627</td>\n",
       "      <td>0.3860</td>\n",
       "      <td>70.6504</td>\n",
       "      <td>15.8475</td>\n",
       "      <td>0.850</td>\n",
       "      <td>97.3037</td>\n",
       "    </tr>\n",
       "    <tr>\n",
       "      <td>4</td>\n",
       "      <td>5</td>\n",
       "      <td>-1.3843</td>\n",
       "      <td>-1.1263</td>\n",
       "      <td>69.9851</td>\n",
       "      <td>15.8475</td>\n",
       "      <td>0.857</td>\n",
       "      <td>97.3038</td>\n",
       "    </tr>\n",
       "  </tbody>\n",
       "</table>\n",
       "</div>"
      ],
      "text/plain": [
       "   Sno     ECG  Stethography  HeartRate  respiratoryrate  SelDuration     SpO2\n",
       "0    1 -1.3970       -1.4897    75.6547          15.8475        0.793  97.3036\n",
       "1    2 -1.3831        0.1815    75.4254          15.8475        0.796  97.3044\n",
       "2    3 -1.3663        1.3439    74.8397          15.8475        0.801  97.3048\n",
       "3    4 -1.3627        0.3860    70.6504          15.8475        0.850  97.3037\n",
       "4    5 -1.3843       -1.1263    69.9851          15.8475        0.857  97.3038"
      ]
     },
     "execution_count": 11,
     "metadata": {},
     "output_type": "execute_result"
    }
   ],
   "source": [
    "cdf = df[['Sno','ECG','Stethography','HeartRate','respiratoryrate','SelDuration','SpO2']]\n",
    "cdf.head()"
   ]
  },
  {
   "cell_type": "code",
   "execution_count": 12,
   "metadata": {},
   "outputs": [],
   "source": [
    "# splitting 80% data for training and 20% for testing\n",
    "\n",
    "msk = np.random.rand(len(df))<0.8\n",
    "train = cdf[msk]\n",
    "test = cdf[~msk]\n"
   ]
  },
  {
   "cell_type": "code",
   "execution_count": 33,
   "metadata": {},
   "outputs": [
    {
     "data": {
      "text/plain": [
       "LinearRegression(copy_X=True, fit_intercept=True, n_jobs=None, normalize=False)"
      ]
     },
     "execution_count": 33,
     "metadata": {},
     "output_type": "execute_result"
    }
   ],
   "source": [
    "#training our multiple linear regression model \n",
    "\n",
    "from sklearn import linear_model\n",
    "regr = linear_model.LinearRegression()\n",
    "x = np.asanyarray(train[['Stethography','SpO2','Sno','HeartRate']])\n",
    "y = np.asanyarray(train[['SelDuration']])\n",
    "regr.fit (x, y)"
   ]
  },
  {
   "cell_type": "code",
   "execution_count": 34,
   "metadata": {},
   "outputs": [
    {
     "name": "stdout",
     "output_type": "stream",
     "text": [
      "Coefficients:  [[-4.99368125e-04 -3.61690318e-04 -1.66323522e-07 -9.52066517e-03]]\n",
      "intercept [1.55049978]\n"
     ]
    }
   ],
   "source": [
    "#Getting the coefficients\n",
    "print ('Coefficients: ', regr.coef_)\n",
    "print ('intercept', regr.intercept_)"
   ]
  },
  {
   "cell_type": "code",
   "execution_count": 35,
   "metadata": {},
   "outputs": [
    {
     "name": "stdout",
     "output_type": "stream",
     "text": [
      "Residual sum of squares: 0.00\n",
      "Variance score: 0.97\n"
     ]
    }
   ],
   "source": [
    "y_hat= regr.predict(test[['Stethography','SpO2','Sno','HeartRate']])\n",
    "x = np.asanyarray(test[['Stethography','SpO2','Sno','HeartRate']])\n",
    "y = np.asanyarray(test[['SelDuration']])\n",
    "print(\"Residual sum of squares: %.2f\"\n",
    "      % np.mean((y_hat - y) ** 2))\n",
    "\n",
    "# Explained variance score: 1 is perfect prediction\n",
    "print('Variance score: %.2f' % regr.score(x, y))"
   ]
  },
  {
   "cell_type": "code",
   "execution_count": null,
   "metadata": {},
   "outputs": [],
   "source": []
  }
 ],
 "metadata": {
  "kernelspec": {
   "display_name": "Python 3",
   "language": "python",
   "name": "python3"
  },
  "language_info": {
   "codemirror_mode": {
    "name": "ipython",
    "version": 3
   },
   "file_extension": ".py",
   "mimetype": "text/x-python",
   "name": "python",
   "nbconvert_exporter": "python",
   "pygments_lexer": "ipython3",
   "version": "3.7.4"
  }
 },
 "nbformat": 4,
 "nbformat_minor": 2
}
